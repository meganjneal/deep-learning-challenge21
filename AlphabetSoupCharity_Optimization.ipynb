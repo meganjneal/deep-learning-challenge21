{  
 "cells": [  
  {  
   "cell_type": "code",  
   "execution_count": null,  
   "id": "d97f05eb-633b-4360-a1c0-3cb17e7c242f",  
   "metadata": {},  
   "outputs": [],  
   "source": [  
    "# Import libraries\n",  
    "import pandas as pd\n",  
    "import numpy as np\n",  
    "from sklearn.model_selection import train_test_split\n",  
    "from sklearn.preprocessing import StandardScaler\n",  
    "from tensorflow.keras.models import Sequential\n",  
    "from tensorflow.keras.layers import Dense, Dropout\n",  
    "\n",  
    "# Load the dataset\n",  
    "try:\n",  
    "    df = pd.read_csv('charity_data.csv')\n",  
    "    print('Dataset loaded successfully.')\n",  
    "except Exception as e:\n",  
    "    print('Error loading dataset:', e)\n",  
    "\n",  
    "# Display the first few rows\n",  
    "print('First few rows of the dataset:')\n",  
    "print(df.head())"  
   ]  
  },  
  {  
   "cell_type": "code",  
   "execution_count": null,  
   "id": "1745d0de-ba2c-4b58-9c63-a332cdf3fee1",  
   "metadata": {},  
   "outputs": [],  
   "source": [  
    "# Drop unnecessary columns (EIN and NAME)\n",  
    "if 'EIN' in df.columns and 'NAME' in df.columns:\n",  
    "    df = df.drop(columns=['EIN', 'NAME'])\n",  
    "    print('Dropped columns: EIN, NAME')\n",  
    "else:\n",  
    "    print('Columns EIN or NAME not found, proceeding without dropping.')\n",  
    "\n",  
    "# For columns with more than 10 unique values, replace rare categories with 'Other'\n",  