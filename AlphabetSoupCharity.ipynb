 {  
  "cells": [  
   {  
    "cell_type": "code",  
    "execution_count": null,  
    "id": "a0d12ef5-2b8a-4f6e-9e7a-1d34bf9a1d62",  
    "metadata": {},  
    "outputs": [],  
    "source": [  
     "# Import libraries\n",  
     "import pandas as pd\n",  
     "import numpy as np\n",  
     "from sklearn.model_selection import train_test_split\n",  
     "from sklearn.preprocessing import StandardScaler\n",  
     "from tensorflow.keras.models import Sequential\n",  
     "from tensorflow.keras.layers import Dense\n",  
     "\n",  
     "# Load the dataset\n",  
     "try:\n",  
     "    df = pd.read_csv('charity_data.csv')\n",  
     "    print('Dataset loaded successfully.')\n",  
     "except Exception as e:\n",  
     "    print('Error loading dataset:', e)\n",  
     "\n",  
     "# Display the first few rows\n",  
     "print('First few rows of the dataset:')\n",  
     "print(df.head())"  
    ]  
   },  
   {  
    "cell_type": "code",  
    "execution_count": null,  
    "id": "5b74c47b-0f5a-4f96-8a5f-407628c3b28e",  
    "metadata": {},  
    "outputs": [],  
    "source": [  
     "# Drop unnecessary columns (EIN and NAME)\n",  
     "if 'EIN' in df.columns and 'NAME' in df.columns:\n",  
     "    df = df.drop(columns=['EIN', 'NAME'])\n",  
     "    print('Dropped columns: EIN, NAME')\n",  
     "else:\n",  
     "    print('Columns EIN or NAME not found, proceeding without dropping.')\n",  
     "\n",  
     "# Print unique value counts for each column\n",  
     "print('\\nUnique values in each column:')\n",  
     "for col in df.columns:\n",  
     "    print(col + ': ' + str(df[col].nunique()))"  
    ]  
   },  
   {  
    "cell_type": "code",  
    "execution_count": null,  
    "id": "7a3c2e4a-1c9f-4630-9fe4-5e01d1b21349",  
    "metadata": {},  
    "outputs": [],  
    "source": [  
     "# For columns with more than 10 unique values, you might want to group rare categories\n",  
     "# This is a simple placeholder: if a column has >10 uniques, we will replace values with frequency <5 with 'Other'\n",  
     "def replace_rare_categories(series):\n",  
     "    counts = series.value_counts()\n",  
     "    rares = counts[counts < 5].index\n",  
     "    return series.replace(rares, 'Other')\n",  
     "\n",  
     "# Apply this transformation to object type columns\n",  
     "for col in df.select_dtypes(include=['object']).columns:\n",  
     "    if df[col].nunique() > 10:\n",  
     "        df[col] = replace_rare_categories(df[col])\n",  
     "        print('Replaced rare categories in column: ' + col)"  
    ]  
   },  
   {  
    "cell_type": "code",  
    "execution_count": null,  
    "id": "d8313ea1-07c0-4f93-9bb4-c3bb624dc75f",  
    "metadata": {},  
    "outputs": [],  
    "source": [  
     "# Split the DataFrame into features X and target y\n",  
     "# Assume the target variable is named 'target'. Modify if the target has a different name.\n",  
     "if 'target' in df.columns:\n",  
     "    y = df['target']\n",  
     "    X = df.drop(columns=['target'])\n",  
     "    print('Separated target from features.')\n",  
     "else:\n",  
     "    # If no column 'target', set target as the last column\n",  
     "    y = df.iloc[:, -1]\n",  
     "    X = df.iloc[:, :-1]\n",  
     "    print('No column named \"target\"; assumed the last column is the target.')\n",  
     "\n",  
     "# Split data into training and testing datasets\n",  
     "X_train, X_test, y_train, y_test = train_test_split(X, y, test_size=0.2, random_state=42)\n",  
     "print('Data split into training and testing sets.')"  
    ]  
   },  
   {  
    "cell_type": "code",  
    "execution_count": null,  
    "id": "e3c5ae4b-9adc-43b1-a221-27fd41a848a8",  
    "metadata": {},  
    "outputs": [],  
    "source": [  
     "# Scale the feature data using StandardScaler\n",  
     "scaler = StandardScaler()\n",  
     "X_train_scaled = scaler.fit_transform(X_train)\n",  
     "X_test_scaled = scaler.transform(X_test)\n",  
     "print('Data scaling complete.')"  
    ]  
   },  
   {  
    "cell_type": "code",  
    "execution_count": null,  
    "id": "b7447a64-1b8f-4e66-8547-0d9d505a4c77",  
    "metadata": {},  
    "outputs": [],  
    "source": [  
     "# Build the neural network model\n",  
     "model = Sequential()\n",  
     "# Input layer and 1st hidden layer\n",  
     "model.add(Dense(16, input_dim=X_train_scaled.shape[1], activation='relu'))\n",  
     "# Second hidden layer\n",  
     "model.add(Dense(8, activation='relu'))\n",  
     "# Output layer: using sigmoid activation for binary classification\n",  
     "model.add(Dense(1, activation='sigmoid'))\n",  
     "\n",  
     "print('Neural network model built:')\n",  
     "model.summary()"  
    ]  
   },  
   {  
    "cell_type": "code",  
    "execution_count": null,  
    "id": "9e429d7f-41d0-4d4e-83bd-0549e56ef3a2",  
    "metadata": {},  
    "outputs": [],  
    "source": [  
     "# Compile and train the model\n",  
     "model.compile(loss='binary_crossentropy', optimizer='adam', metrics=['accuracy'])\n",  
     "print('Compiled the model.')\n",  
     "\n",  
     "# Train the model. Adjust epochs and batch_size as needed\n",  
     "history = model.fit(X_train_scaled, y_train, epochs=50, batch_size=16, validation_split=0.2, verbose=1)\n",  
     "print('Model training complete.')"  
    ]  
   },  
   {  
    "cell_type": "code",  
    "execution_count": null,  
    "id": "497420f9-51f9-4086-8616-fef1b5e8b128",  
    "metadata": {},  
    "outputs": [],  
    "source": [  
     "# Evaluate the model on the test set\n",  
     "loss, accuracy = model.evaluate(X_test_scaled, y_test, verbose=0)\n",  
     "print('Testing Loss:', loss)\n",  
     "print('Testing Accuracy:', accuracy)\n",  
     "\n",  
     "# Save the trained model to HDF5 format\n",  
     "model.save('AlphabetSoupCharity.h5')\n",  
     "print('Model saved as AlphabetSoupCharity.h5')"  
    ]  
   }  
  ],  
  "metadata": {  
   "kernelspec": {  
    "display_name": "Python 3",  
    "language": "python",  
    "name": "python3"  
   },  
   "language_info": {  
    "name": "python",  
    "version": "3.x"  
   }  
  },  
  "nbformat": 4,  
  "nbformat_minor": 5  
 }  